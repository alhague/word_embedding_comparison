{
 "cells": [
  {
   "cell_type": "code",
   "execution_count": 1,
   "metadata": {},
   "outputs": [],
   "source": [
    "import gensim\n",
    "from gensim.models import KeyedVectors\n",
    "import random\n",
    "import re"
   ]
  },
  {
   "cell_type": "markdown",
   "metadata": {},
   "source": [
    "# compare two models for a word"
   ]
  },
  {
   "cell_type": "code",
   "execution_count": 2,
   "metadata": {},
   "outputs": [],
   "source": [
    "def agreement(word,m1,m2,num):\n",
    "    sim1=m1.most_similar(positive=[word], topn=num)\n",
    "    sim2=m2.most_similar(positive=[word], topn=num)\n",
    "    agreements=[]\n",
    "    for (w,c) in sim1:\n",
    "        found=0\n",
    "        for(w2,c2) in sim2:\n",
    "            if w == w2:\n",
    "                found=1\n",
    "        if found == 1:\n",
    "            agreements.append(w)\n",
    "    return(agreements)"
   ]
  },
  {
   "cell_type": "markdown",
   "metadata": {},
   "source": [
    "# load models"
   ]
  },
  {
   "cell_type": "code",
   "execution_count": 3,
   "metadata": {},
   "outputs": [],
   "source": [
    "m1=gensim.models.word2vec.Word2Vec.load('dewiki190420.word2vec.sg.hs.324.10')\n",
    "wv_sg=m1.wv\n",
    "del m1"
   ]
  },
  {
   "cell_type": "code",
   "execution_count": 4,
   "metadata": {},
   "outputs": [],
   "source": [
    "m2=gensim.models.word2vec.Word2Vec.load('dewiki190420.word2vec.324.10')\n",
    "wv_cbow=m2.wv\n",
    "del m2"
   ]
  },
  {
   "cell_type": "code",
   "execution_count": 6,
   "metadata": {},
   "outputs": [],
   "source": [
    "m3=KeyedVectors.load_word2vec_format(\"word2vec.txt\")\n",
    "wv_glove=m3.wv\n",
    "del m3"
   ]
  },
  {
   "cell_type": "markdown",
   "metadata": {},
   "source": [
    "# the first and very long running comparison"
   ]
  },
  {
   "cell_type": "code",
   "execution_count": null,
   "metadata": {},
   "outputs": [],
   "source": [
    "agreements=[]\n",
    "i=0\n",
    "while i<11:\n",
    "    agreements.append(0)\n",
    "    i+=1\n",
    "\n",
    "with open('agreements.log','wt',encoding='utf-8') as f:\n",
    "    i=0\n",
    "    for token in m1.wv.vocab:\n",
    "        a=agreement(token,m1.wv,m2.wv,10)\n",
    "        if i%1000==0:\n",
    "            print(\"{}\\t{}\".format(i,agreements))\n",
    "        f.write(\"{}\\t{}\\n\".format(token,a))\n",
    "        agreements[len(a)]+=1\n",
    "        i+=1"
   ]
  },
  {
   "cell_type": "markdown",
   "metadata": {},
   "source": [
    "# convert frequency word list into frequency class wordlist and prepare the lookup structures"
   ]
  },
  {
   "cell_type": "code",
   "execution_count": null,
   "metadata": {},
   "outputs": [],
   "source": [
    "wc_pat=re.compile(\" *(\\d+)\\t(.*)\");\n",
    "wf_hkl={}\n",
    "hklwl=[]\n",
    "i=0;\n",
    "while i<22:\n",
    "    hklwl.append([])\n",
    "    i+=1\n",
    "with open(\"types.hkl\",encoding='utf-8') as f:\n",
    "    for line in f:\n",
    "        l=wc_pat.match(line)\n",
    "        wf_hkl.update({l.group(2): int(l.group(1))})\n",
    "        hklwl[int(l.group(1))].append(l.group(2))"
   ]
  },
  {
   "cell_type": "markdown",
   "metadata": {},
   "source": [
    "# calculate comparisons for one frequency class"
   ]
  },
  {
   "cell_type": "code",
   "execution_count": 17,
   "metadata": {},
   "outputs": [],
   "source": [
    "import random\n",
    "def test(wv1,wv2,wv3,hkl,num,topn):\n",
    "    counts1=[0,0,0,0,0,0,0,0,0,0,0,0,0,0,0,0,0,0,0,0,0,0]\n",
    "    counts2=[0,0,0,0,0,0,0,0,0,0,0,0,0,0,0,0,0,0,0,0,0,0]\n",
    "    counts3=[0,0,0,0,0,0,0,0,0,0,0,0,0,0,0,0,0,0,0,0,0,0]\n",
    "    counts4=[0,0,0,0,0,0,0,0,0,0,0,0,0,0,0,0,0,0,0,0,0,0]\n",
    "    counts5=[0,0,0,0,0,0,0,0,0,0,0,0,0,0,0,0,0,0,0,0,0,0]\n",
    "    counts6=[0,0,0,0,0,0,0,0,0,0,0,0,0,0,0,0,0,0,0,0,0,0]\n",
    "    for i in range(num-1):\n",
    "        good=0\n",
    "        while good < 1:\n",
    "            testword=hklwl[hkl][random.randint(0,len(hklwl[hkl]) - 1)]\n",
    "            if testword in wv1.vocab and testword in wv2.vocab and testword in wv3.vocab:\n",
    "                good=1\n",
    "        #print('{}\\t{}'.format(testword, wf_hkl[testword]),end='')\n",
    "        for (word,sim) in wv1.most_similar(positive=[testword],topn=topn):\n",
    "            #print('\\t{}'.format(wf_hkl[word]),end='')\n",
    "            try:\n",
    "                counts1[wf_hkl[word]]+=1\n",
    "            except:\n",
    "                #key error\n",
    "                print('',end='')\n",
    "        #print(\"\")\n",
    "        for (word,sim) in wv2.most_similar(positive=[testword],topn=topn):\n",
    "            #print('\\t{}'.format(wf_hkl[word]),end='')\n",
    "            try:\n",
    "                counts2[wf_hkl[word]]+=1\n",
    "            except:\n",
    "                #key error\n",
    "                print('',end='')\n",
    "        for (word,sim) in wv3.most_similar(positive=[testword],topn=topn):\n",
    "            #print('\\t{}'.format(wf_hkl[word]),end='')\n",
    "            try:\n",
    "                counts3[wf_hkl[word]]+=1\n",
    "            except:\n",
    "                #key error\n",
    "                print('',end='')\n",
    "        for word in agreement(testword,wv1,wv2,topn):\n",
    "            try:\n",
    "                counts4[wf_hkl[word]]+=1\n",
    "            except:\n",
    "                #key error\n",
    "                print('',end='')\n",
    "        #print(\"\")\n",
    "        for word in agreement(testword,wv1,wv3,topn):\n",
    "            try:\n",
    "                counts5[wf_hkl[word]]+=1\n",
    "            except:\n",
    "                #key error\n",
    "                print('',end='')\n",
    "    \n",
    "        for word in agreement(testword,wv2,wv3,topn):\n",
    "            try:\n",
    "                counts6[wf_hkl[word]]+=1\n",
    "            except:\n",
    "                #key error\n",
    "                print('',end='')\n",
    "    return counts1,counts2,counts3,counts4,counts5,counts6"
   ]
  },
  {
   "cell_type": "markdown",
   "metadata": {},
   "source": [
    "# collect results for all three models and all comparisons"
   ]
  },
  {
   "cell_type": "code",
   "execution_count": null,
   "metadata": {},
   "outputs": [],
   "source": [
    "counts_glove=[]\n",
    "counts_sg=[]\n",
    "counts_cbow=[]\n",
    "counts_agre_g_s=[]\n",
    "counts_agre_g_c=[]\n",
    "counts_agre_s_c=[]\n",
    "for hkl in range(6,22):\n",
    "    print(hkl)\n",
    "    (counts1,counts2,counts3,counts4,counts5,counts6)=test(wv_glove,wv_sg,wv_cbow,hkl,1000,10)\n",
    "    counts_glove.append([hkl] + counts1[6:])\n",
    "    counts_sg.append([hkl] + counts2[6:])\n",
    "    counts_cbow.append([hkl] + counts3[6:])\n",
    "    counts_agre_g_s.append([hkl] + counts4[6:])\n",
    "    counts_agre_g_c.append([hkl] + counts5[6:])\n",
    "    counts_agre_s_c.append([hkl] + counts6[6:])"
   ]
  },
  {
   "cell_type": "markdown",
   "metadata": {},
   "source": [
    "# output a sample result"
   ]
  },
  {
   "cell_type": "code",
   "execution_count": null,
   "metadata": {},
   "outputs": [],
   "source": [
    "for c in counts_agre_s_c:\n",
    "    for v in c:\n",
    "        print(\"\\t{}\".format(v),end='')\n",
    "    print(\"\")"
   ]
  },
  {
   "cell_type": "markdown",
   "metadata": {},
   "source": [
    "# Get data for frequency class plot"
   ]
  },
  {
   "cell_type": "code",
   "execution_count": 210,
   "metadata": {},
   "outputs": [
    {
     "name": "stdout",
     "output_type": "stream",
     "text": [
      "0\t0\n",
      "1\t0\n",
      "2\t0\n",
      "3\t0\n",
      "4\t0\n",
      "5\t0\n",
      "6\t175\n",
      "7\t212\n",
      "8\t404\n",
      "9\t828\n",
      "10\t1525\n",
      "11\t2760\n",
      "12\t4896\n",
      "13\t8441\n",
      "14\t14524\n",
      "15\t24782\n",
      "16\t43470\n",
      "17\t73503\n",
      "18\t124631\n",
      "19\t211042\n",
      "20\t330124\n",
      "21\t500728\n"
     ]
    }
   ],
   "source": [
    "for i,hk in enumerate(hklwl):\n",
    "    print(\"{}\\t{}\".format(i,len(hk)))"
   ]
  }
 ],
 "metadata": {
  "kernelspec": {
   "display_name": "Python 3",
   "language": "python",
   "name": "python3"
  },
  "language_info": {
   "codemirror_mode": {
    "name": "ipython",
    "version": 3
   },
   "file_extension": ".py",
   "mimetype": "text/x-python",
   "name": "python",
   "nbconvert_exporter": "python",
   "pygments_lexer": "ipython3",
   "version": "3.7.3"
  }
 },
 "nbformat": 4,
 "nbformat_minor": 2
}
